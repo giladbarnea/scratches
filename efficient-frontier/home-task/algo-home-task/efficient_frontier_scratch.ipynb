{
 "cells": [
  {
   "cell_type": "code",
   "execution_count": 1,
   "metadata": {
    "colab": {
     "base_uri": "https://localhost:8080/",
     "height": 50
    },
    "colab_type": "code",
    "id": "JHFA6-Mr8WWG",
    "outputId": "27062c40-3950-4267-c703-d16313dd899f"
   },
   "outputs": [],
   "source": [
    "try:\n",
    "    %load_ext google.colab.data_table\n",
    "except Exception as e:\n",
    "    pass\n",
    "import json\n",
    "import pandas as pd\n",
    "from matplotlib import pyplot as plt\n",
    "from time import sleep\n",
    "try:\n",
    "    %matplotlib inline\n",
    "except Exception as e:\n",
    "    pass\n"
   ]
  },
  {
   "cell_type": "code",
   "execution_count": 2,
   "metadata": {
    "colab": {},
    "colab_type": "code",
    "id": "ibKz97zbfkDa"
   },
   "outputs": [],
   "source": [
    "try:\n",
    "    from google.colab import files\n",
    "    uploaded = files.upload()\n",
    "    data:dict = json.loads(uploaded['data-trunc.json'])\n",
    "except Exception as e:\n",
    "    with open('./data-trunc.json') as f:\n",
    "        # 500ms~\n",
    "        data: dict = json.load(f)"
   ]
  },
  {
   "cell_type": "code",
   "execution_count": 24,
   "metadata": {
    "colab": {},
    "colab_type": "code",
    "id": "Kt2ak3SRcZe3"
   },
   "outputs": [],
   "source": [
    "try:\n",
    "    import util\n",
    "    get_chunks = util.get_chunks\n",
    "    simulate_stream = util.simulate_stream\n",
    "except:\n",
    "    def get_chunks(data, chunksize=10000, chunk_count=None):\n",
    "        chunks = []\n",
    "        chunk = dict()\n",
    "        count = 0\n",
    "        for i, (key, value) in enumerate(data.items()):\n",
    "            if i and i % chunksize == 0:\n",
    "                chunks.append(chunk)\n",
    "                count += 1\n",
    "                chunk = dict()\n",
    "                if chunk_count and chunk_count == count:\n",
    "                    return chunks\n",
    "            chunk[key] = value\n",
    "        return chunks\n",
    "\n",
    "\n",
    "\n",
    "    def simulate_stream(data):\n",
    "        \"\"\"Yields a DataFrame\"\"\"\n",
    "        keys = list(data.keys())\n",
    "        for i, (key, value) in enumerate(data.items()):\n",
    "            try:\n",
    "                yield pd.DataFrame({key: value})\n",
    "                nextkey = int(keys[i + 1])\n",
    "                diff_sec = (nextkey - int(key)) / 1000\n",
    "                sleep(diff_sec)\n",
    "            except IndexError:\n",
    "                # end of file\n",
    "                return"
   ]
  },
  {
   "cell_type": "code",
   "execution_count": 25,
   "metadata": {
    "colab": {},
    "colab_type": "code",
    "id": "4SdC18eIfbOh"
   },
   "outputs": [
    {
     "data": {
      "text/plain": [
       "{'1577836803078': {'assetA': {'ask': 7189, 'bid': 7188.89},\n",
       "  'assetB': {'ask': 7170.25, 'bid': 7169.5}},\n",
       " '1577836806371': {'assetA': {'ask': 7190.09, 'bid': 7190.05},\n",
       "  'assetB': {'ask': 7170.25, 'bid': 7169.5}},\n",
       " '1577836806459': {'assetA': {'ask': 7190.09, 'bid': 7190.05},\n",
       "  'assetB': {'ask': 7170.5, 'bid': 7169.5}},\n",
       " '1577836806474': {'assetA': {'ask': 7190.43, 'bid': 7190.05},\n",
       "  'assetB': {'ask': 7170.5, 'bid': 7169.5}},\n",
       " '1577836806575': {'assetA': {'ask': 7190.39, 'bid': 7190.05},\n",
       "  'assetB': {'ask': 7170.5, 'bid': 7169.5}},\n",
       " '1577836807242': {'assetA': {'ask': 7190.33, 'bid': 7189.92},\n",
       "  'assetB': {'ask': 7170.5, 'bid': 7169.5}},\n",
       " '1577836807344': {'assetA': {'ask': 7190.25, 'bid': 7189.92},\n",
       "  'assetB': {'ask': 7170.5, 'bid': 7169.5}},\n",
       " '1577836807444': {'assetA': {'ask': 7190.21, 'bid': 7189.92},\n",
       "  'assetB': {'ask': 7170.5, 'bid': 7169.5}},\n",
       " '1577836807545': {'assetA': {'ask': 7190.12, 'bid': 7189.92},\n",
       "  'assetB': {'ask': 7170.5, 'bid': 7169.5}},\n",
       " '1577836807649': {'assetA': {'ask': 7190.01, 'bid': 7189.92},\n",
       "  'assetB': {'ask': 7170.5, 'bid': 7169.5}},\n",
       " '1577836807750': {'assetA': {'ask': 7189.94, 'bid': 7189.92},\n",
       "  'assetB': {'ask': 7170.5, 'bid': 7169.5}},\n",
       " '1577836807968': {'assetA': {'ask': 7190.12, 'bid': 7189.92},\n",
       "  'assetB': {'ask': 7170.5, 'bid': 7169.5}},\n",
       " '1577836808070': {'assetA': {'ask': 7190.06, 'bid': 7189.92},\n",
       "  'assetB': {'ask': 7170.5, 'bid': 7169.5}},\n",
       " '1577836808174': {'assetA': {'ask': 7189.99, 'bid': 7189.92},\n",
       "  'assetB': {'ask': 7170.5, 'bid': 7169.5}},\n",
       " '1577836808276': {'assetA': {'ask': 7189.93, 'bid': 7189.92},\n",
       "  'assetB': {'ask': 7170.5, 'bid': 7169.5}},\n",
       " '1577836809123': {'assetA': {'ask': 7190.18, 'bid': 7189.92},\n",
       "  'assetB': {'ask': 7170.5, 'bid': 7169.5}},\n",
       " '1577836809230': {'assetA': {'ask': 7190.52, 'bid': 7190.11},\n",
       "  'assetB': {'ask': 7170.5, 'bid': 7169.5}},\n",
       " '1577836809332': {'assetA': {'ask': 7190.52, 'bid': 7190.47},\n",
       "  'assetB': {'ask': 7170.5, 'bid': 7169.5}},\n",
       " '1577836809433': {'assetA': {'ask': 7190.5, 'bid': 7190.11},\n",
       "  'assetB': {'ask': 7170.5, 'bid': 7169.5}},\n",
       " '1577836809535': {'assetA': {'ask': 7190.42, 'bid': 7190.11},\n",
       "  'assetB': {'ask': 7170.5, 'bid': 7169.5}},\n",
       " '1577836809638': {'assetA': {'ask': 7190.35, 'bid': 7190.11},\n",
       "  'assetB': {'ask': 7170.5, 'bid': 7169.5}},\n",
       " '1577836809744': {'assetA': {'ask': 7190.28, 'bid': 7189.92},\n",
       "  'assetB': {'ask': 7170.5, 'bid': 7169.5}},\n",
       " '1577836809851': {'assetA': {'ask': 7190.19, 'bid': 7189.74},\n",
       "  'assetB': {'ask': 7170.5, 'bid': 7169.5}},\n",
       " '1577836809902': {'assetA': {'ask': 7190.19, 'bid': 7189.74},\n",
       "  'assetB': {'ask': 7170.25, 'bid': 7169.5}},\n",
       " '1577836809954': {'assetA': {'ask': 7190.11, 'bid': 7189.1},\n",
       "  'assetB': {'ask': 7170.25, 'bid': 7169.5}},\n",
       " '1577836810023': {'assetA': {'ask': 7190.11, 'bid': 7189.1},\n",
       "  'assetB': {'ask': 7170, 'bid': 7169.5}},\n",
       " '1577836810057': {'assetA': {'ask': 7190.02, 'bid': 7189.48},\n",
       "  'assetB': {'ask': 7170, 'bid': 7169.5}},\n",
       " '1577836810161': {'assetA': {'ask': 7189.92, 'bid': 7189.16},\n",
       "  'assetB': {'ask': 7170, 'bid': 7169.5}},\n",
       " '1577836810264': {'assetA': {'ask': 7189.11, 'bid': 7189.1},\n",
       "  'assetB': {'ask': 7170, 'bid': 7169.5}},\n",
       " '1577836810299': {'assetA': {'ask': 7189.11, 'bid': 7189.1},\n",
       "  'assetB': {'ask': 7169.75, 'bid': 7169.5}},\n",
       " '1577836810464': {'assetA': {'ask': 7189.05, 'bid': 7188.88},\n",
       "  'assetB': {'ask': 7169.75, 'bid': 7169.5}},\n",
       " '1577836810570': {'assetA': {'ask': 7188.07, 'bid': 7187.92},\n",
       "  'assetB': {'ask': 7169.75, 'bid': 7169.5}},\n",
       " '1577836810673': {'assetA': {'ask': 7187.71, 'bid': 7187.69},\n",
       "  'assetB': {'ask': 7169.75, 'bid': 7169.5}},\n",
       " '1577836810773': {'assetA': {'ask': 7187.71, 'bid': 7187.7},\n",
       "  'assetB': {'ask': 7169.75, 'bid': 7169.5}},\n",
       " '1577836810875': {'assetA': {'ask': 7187.64, 'bid': 7187.52},\n",
       "  'assetB': {'ask': 7169.75, 'bid': 7169.5}},\n",
       " '1577836810975': {'assetA': {'ask': 7187.57, 'bid': 7187.52},\n",
       "  'assetB': {'ask': 7169.75, 'bid': 7169.5}},\n",
       " '1577836811175': {'assetA': {'ask': 7187.57, 'bid': 7187.53},\n",
       "  'assetB': {'ask': 7169.75, 'bid': 7169.5}},\n",
       " '1577836811276': {'assetA': {'ask': 7187.57, 'bid': 7187.52},\n",
       "  'assetB': {'ask': 7169.75, 'bid': 7169.5}},\n",
       " '1577836812649': {'assetA': {'ask': 7187.57, 'bid': 7187.41},\n",
       "  'assetB': {'ask': 7169.75, 'bid': 7169.5}},\n",
       " '1577836812749': {'assetA': {'ask': 7187.55, 'bid': 7187.11},\n",
       "  'assetB': {'ask': 7169.75, 'bid': 7169.5}},\n",
       " '1577836812964': {'assetA': {'ask': 7187.46, 'bid': 7187.11},\n",
       "  'assetB': {'ask': 7169.75, 'bid': 7169.5}},\n",
       " '1577836813081': {'assetA': {'ask': 7187.4, 'bid': 7187},\n",
       "  'assetB': {'ask': 7169.75, 'bid': 7169.5}},\n",
       " '1577836813196': {'assetA': {'ask': 7187.35, 'bid': 7187},\n",
       "  'assetB': {'ask': 7169.75, 'bid': 7169.5}},\n",
       " '1577836813302': {'assetA': {'ask': 7187.3, 'bid': 7187},\n",
       "  'assetB': {'ask': 7169.75, 'bid': 7169.5}},\n",
       " '1577836813403': {'assetA': {'ask': 7187.45, 'bid': 7187},\n",
       "  'assetB': {'ask': 7169.75, 'bid': 7169.5}},\n",
       " '1577836814853': {'assetA': {'ask': 7187.44, 'bid': 7187},\n",
       "  'assetB': {'ask': 7169.75, 'bid': 7169.5}},\n",
       " '1577836815285': {'assetA': {'ask': 7187.44, 'bid': 7186.92},\n",
       "  'assetB': {'ask': 7169.75, 'bid': 7169.5}},\n",
       " '1577836815503': {'assetA': {'ask': 7187.44, 'bid': 7186.94},\n",
       "  'assetB': {'ask': 7169.75, 'bid': 7169.5}},\n",
       " '1577836815743': {'assetA': {'ask': 7187.42, 'bid': 7186.96},\n",
       "  'assetB': {'ask': 7169.75, 'bid': 7169.5}},\n",
       " '1577836816096': {'assetA': {'ask': 7187.42, 'bid': 7186.9},\n",
       "  'assetB': {'ask': 7169.75, 'bid': 7169.5}},\n",
       " '1577836816198': {'assetA': {'ask': 7188.21, 'bid': 7186.92},\n",
       "  'assetB': {'ask': 7169.75, 'bid': 7169.5}},\n",
       " '1577836816298': {'assetA': {'ask': 7188.2, 'bid': 7186.93},\n",
       "  'assetB': {'ask': 7169.75, 'bid': 7169.5}},\n",
       " '1577836816506': {'assetA': {'ask': 7188.19, 'bid': 7186.94},\n",
       "  'assetB': {'ask': 7169.75, 'bid': 7169.5}},\n",
       " '1577836816707': {'assetA': {'ask': 7188.19, 'bid': 7186.94},\n",
       "  'assetB': {'ask': 7170, 'bid': 7169.5}},\n",
       " '1577836816839': {'assetA': {'ask': 7188.19, 'bid': 7186.94},\n",
       "  'assetB': {'ask': 7169.75, 'bid': 7169.5}},\n",
       " '1577836816966': {'assetA': {'ask': 7188.16, 'bid': 7186.94},\n",
       "  'assetB': {'ask': 7169.75, 'bid': 7169.5}},\n",
       " '1577836817104': {'assetA': {'ask': 7188.14, 'bid': 7186.94},\n",
       "  'assetB': {'ask': 7169.75, 'bid': 7169.5}},\n",
       " '1577836817237': {'assetA': {'ask': 7188.12, 'bid': 7186.93},\n",
       "  'assetB': {'ask': 7169.75, 'bid': 7169.5}},\n",
       " '1577836817423': {'assetA': {'ask': 7188.04, 'bid': 7186.91},\n",
       "  'assetB': {'ask': 7169.75, 'bid': 7169.5}},\n",
       " '1577836817761': {'assetA': {'ask': 7188.04, 'bid': 7185.29},\n",
       "  'assetB': {'ask': 7169.75, 'bid': 7169.5}},\n",
       " '1577836817887': {'assetA': {'ask': 7187.93, 'bid': 7185.45},\n",
       "  'assetB': {'ask': 7169.75, 'bid': 7169.5}},\n",
       " '1577836817992': {'assetA': {'ask': 7187.92, 'bid': 7186.09},\n",
       "  'assetB': {'ask': 7169.75, 'bid': 7169.5}},\n",
       " '1577836818094': {'assetA': {'ask': 7187.9, 'bid': 7186.1},\n",
       "  'assetB': {'ask': 7169.75, 'bid': 7169.5}},\n",
       " '1577836818194': {'assetA': {'ask': 7187.86, 'bid': 7186.12},\n",
       "  'assetB': {'ask': 7169.75, 'bid': 7169.5}},\n",
       " '1577836818300': {'assetA': {'ask': 7187.84, 'bid': 7186.16},\n",
       "  'assetB': {'ask': 7169.75, 'bid': 7169.5}},\n",
       " '1577836818401': {'assetA': {'ask': 7187.81, 'bid': 7186.95},\n",
       "  'assetB': {'ask': 7169.75, 'bid': 7169.5}},\n",
       " '1577836818635': {'assetA': {'ask': 7187.76, 'bid': 7186.17},\n",
       "  'assetB': {'ask': 7169.75, 'bid': 7169.5}},\n",
       " '1577836818814': {'assetA': {'ask': 7187.75, 'bid': 7186.17},\n",
       "  'assetB': {'ask': 7169.75, 'bid': 7169.5}},\n",
       " '1577836818918': {'assetA': {'ask': 7187.75, 'bid': 7186.31},\n",
       "  'assetB': {'ask': 7169.75, 'bid': 7169.5}},\n",
       " '1577836819119': {'assetA': {'ask': 7187.73, 'bid': 7186.32},\n",
       "  'assetB': {'ask': 7169.75, 'bid': 7169.5}},\n",
       " '1577836819221': {'assetA': {'ask': 7187.62, 'bid': 7186.32},\n",
       "  'assetB': {'ask': 7169.75, 'bid': 7169.5}},\n",
       " '1577836819448': {'assetA': {'ask': 7187.55, 'bid': 7186.33},\n",
       "  'assetB': {'ask': 7169.75, 'bid': 7169.5}},\n",
       " '1577836819688': {'assetA': {'ask': 7187.54, 'bid': 7186.33},\n",
       "  'assetB': {'ask': 7169.75, 'bid': 7169.5}},\n",
       " '1577836819819': {'assetA': {'ask': 7187.54, 'bid': 7186.36},\n",
       "  'assetB': {'ask': 7169.75, 'bid': 7169.5}},\n",
       " '1577836820053': {'assetA': {'ask': 7187.54, 'bid': 7186.37},\n",
       "  'assetB': {'ask': 7169.75, 'bid': 7169.5}},\n",
       " '1577836821260': {'assetA': {'ask': 7187.5, 'bid': 7186.31},\n",
       "  'assetB': {'ask': 7169.75, 'bid': 7169.5}},\n",
       " '1577836821366': {'assetA': {'ask': 7187.43, 'bid': 7186.31},\n",
       "  'assetB': {'ask': 7169.75, 'bid': 7169.5}},\n",
       " '1577836821473': {'assetA': {'ask': 7187.38, 'bid': 7186.31},\n",
       "  'assetB': {'ask': 7169.75, 'bid': 7169.5}},\n",
       " '1577836821576': {'assetA': {'ask': 7187.35, 'bid': 7186.31},\n",
       "  'assetB': {'ask': 7169.75, 'bid': 7169.5}},\n",
       " '1577836825686': {'assetA': {'ask': 7187.32, 'bid': 7186.31},\n",
       "  'assetB': {'ask': 7169.75, 'bid': 7169.5}},\n",
       " '1577836825788': {'assetA': {'ask': 7187.29, 'bid': 7186.31},\n",
       "  'assetB': {'ask': 7169.75, 'bid': 7169.5}},\n",
       " '1577836825900': {'assetA': {'ask': 7187.26, 'bid': 7186.31},\n",
       "  'assetB': {'ask': 7169.75, 'bid': 7169.5}},\n",
       " '1577836826021': {'assetA': {'ask': 7187.25, 'bid': 7186.31},\n",
       "  'assetB': {'ask': 7169.75, 'bid': 7169.5}},\n",
       " '1577836826422': {'assetA': {'ask': 7187.19, 'bid': 7186.31},\n",
       "  'assetB': {'ask': 7169.75, 'bid': 7169.5}},\n",
       " '1577836826535': {'assetA': {'ask': 7187.16, 'bid': 7186.31},\n",
       "  'assetB': {'ask': 7169.75, 'bid': 7169.5}},\n",
       " '1577836826639': {'assetA': {'ask': 7187.13, 'bid': 7186.31},\n",
       "  'assetB': {'ask': 7169.75, 'bid': 7169.5}},\n",
       " '1577836826741': {'assetA': {'ask': 7187.06, 'bid': 7186.31},\n",
       "  'assetB': {'ask': 7169.75, 'bid': 7169.5}},\n",
       " '1577836826843': {'assetA': {'ask': 7187, 'bid': 7186.31},\n",
       "  'assetB': {'ask': 7169.75, 'bid': 7169.5}},\n",
       " '1577836826946': {'assetA': {'ask': 7186.96, 'bid': 7186.31},\n",
       "  'assetB': {'ask': 7169.75, 'bid': 7169.5}},\n",
       " '1577836827075': {'assetA': {'ask': 7186.92, 'bid': 7186.31},\n",
       "  'assetB': {'ask': 7169.75, 'bid': 7169.5}},\n",
       " '1577836827184': {'assetA': {'ask': 7186.87, 'bid': 7186.31},\n",
       "  'assetB': {'ask': 7169.75, 'bid': 7169.5}},\n",
       " '1577836827303': {'assetA': {'ask': 7186.84, 'bid': 7186.31},\n",
       "  'assetB': {'ask': 7169.75, 'bid': 7169.5}},\n",
       " '1577836827405': {'assetA': {'ask': 7186.8, 'bid': 7186.31},\n",
       "  'assetB': {'ask': 7169.75, 'bid': 7169.5}},\n",
       " '1577836827521': {'assetA': {'ask': 7186.76, 'bid': 7186.31},\n",
       "  'assetB': {'ask': 7169.75, 'bid': 7169.5}},\n",
       " '1577836827626': {'assetA': {'ask': 7186.73, 'bid': 7186.31},\n",
       "  'assetB': {'ask': 7169.75, 'bid': 7169.5}},\n",
       " '1577836827732': {'assetA': {'ask': 7186.72, 'bid': 7186.31},\n",
       "  'assetB': {'ask': 7169.75, 'bid': 7169.5}},\n",
       " '1577836827941': {'assetA': {'ask': 7186.7, 'bid': 7186.31},\n",
       "  'assetB': {'ask': 7169.75, 'bid': 7169.5}},\n",
       " '1577836828147': {'assetA': {'ask': 7186.69, 'bid': 7186.31},\n",
       "  'assetB': {'ask': 7169.75, 'bid': 7169.5}},\n",
       " '1577836828247': {'assetA': {'ask': 7186.68, 'bid': 7186.31},\n",
       "  'assetB': {'ask': 7169.75, 'bid': 7169.5}},\n",
       " '1577836828479': {'assetA': {'ask': 7186.66, 'bid': 7186.31},\n",
       "  'assetB': {'ask': 7169.75, 'bid': 7169.5}}}"
      ]
     },
     "execution_count": 25,
     "metadata": {},
     "output_type": "execute_result"
    }
   ],
   "source": [
    "chunk = get_chunks(data, chunksize=100, chunk_count=1)[0]"
   ]
  },
  {
   "cell_type": "code",
   "execution_count": 26,
   "metadata": {
    "pycharm": {
     "name": "#%%\n"
    }
   },
   "outputs": [],
   "source": [
    "chunkiter = iter(chunk)\n",
    "key0 = int(next(chunkiter))\n",
    "timestamps = []\n",
    "assetA_asks = []\n",
    "assetB_asks = []\n",
    "assetA_bids = []\n",
    "assetB_bids = []\n",
    "for i, (k, v) in enumerate(chunk.items()):\n",
    "    assetA_ask = v['assetA']['ask']\n",
    "    assetB_ask = v['assetB']['ask']\n",
    "    assetA_bid = v['assetA']['bid']\n",
    "    assetB_bid = v['assetB']['bid']\n",
    "    norm_key = int(k) - key0\n",
    "    timestamps.append(norm_key)\n",
    "    assetA_asks.append(assetA_ask)\n",
    "    assetB_asks.append(assetB_ask)\n",
    "    assetA_bids.append(assetA_bid)\n",
    "    assetB_bids.append(assetB_bid)"
   ]
  },
  {
   "cell_type": "code",
   "execution_count": 27,
   "metadata": {
    "pycharm": {
     "name": "#%%\n"
    }
   },
   "outputs": [
    {
     "data": {
      "text/plain": [
       "[0, 3293, 3381, 3396, 3497, 4164, 4266]"
      ]
     },
     "execution_count": 27,
     "metadata": {},
     "output_type": "execute_result"
    }
   ],
   "source": [
    "timestamps[:7]"
   ]
  },
  {
   "cell_type": "code",
   "execution_count": 28,
   "metadata": {
    "pycharm": {
     "name": "#%%\n"
    }
   },
   "outputs": [
    {
     "data": {
      "text/plain": [
       "[7189, 7190.09, 7190.09, 7190.43, 7190.39, 7190.33, 7190.25]"
      ]
     },
     "execution_count": 28,
     "metadata": {},
     "output_type": "execute_result"
    }
   ],
   "source": [
    "assetA_asks[:7]"
   ]
  },
  {
   "cell_type": "code",
   "execution_count": 29,
   "metadata": {
    "pycharm": {
     "name": "#%%\n"
    }
   },
   "outputs": [
    {
     "data": {
      "text/plain": [
       "[7188.89, 7190.05, 7190.05, 7190.05, 7190.05, 7189.92, 7189.92]"
      ]
     },
     "execution_count": 29,
     "metadata": {},
     "output_type": "execute_result"
    }
   ],
   "source": [
    "assetA_bids[:7]"
   ]
  },
  {
   "cell_type": "code",
   "execution_count": 30,
   "metadata": {
    "pycharm": {
     "name": "#%%\n"
    }
   },
   "outputs": [
    {
     "data": {
      "text/plain": [
       "[7170.25, 7170.25, 7170.5, 7170.5, 7170.5, 7170.5, 7170.5]"
      ]
     },
     "execution_count": 30,
     "metadata": {},
     "output_type": "execute_result"
    }
   ],
   "source": [
    "assetB_asks[:7]"
   ]
  },
  {
   "cell_type": "code",
   "execution_count": 31,
   "metadata": {
    "colab": {},
    "colab_type": "code",
    "id": "htYimeouf9v1"
   },
   "outputs": [
    {
     "data": {
      "text/plain": [
       "[7169.5, 7169.5, 7169.5, 7169.5, 7169.5, 7169.5, 7169.5]"
      ]
     },
     "execution_count": 31,
     "metadata": {},
     "output_type": "execute_result"
    }
   ],
   "source": [
    "assetB_bids[:7]"
   ]
  },
  {
   "cell_type": "code",
   "execution_count": 32,
   "metadata": {
    "colab": {
     "base_uri": "https://localhost:8080/",
     "height": 506
    },
    "colab_type": "code",
    "id": "WoWBQDbqZ5g7",
    "outputId": "ef5be48b-460f-4c8c-f677-be5f15f7538b"
   },
   "outputs": [
    {
     "data": {
      "text/plain": [
       "Text(0, 0.5, 'Price')"
      ]
     },
     "execution_count": 32,
     "metadata": {},
     "output_type": "execute_result"
    },
    {
     "data": {
      "image/png": "[encoded data removed]",
      "text/plain": [
       "<Figure size 1440x720 with 1 Axes>"
      ]
     },
     "metadata": {
      "needs_background": "light"
     },
     "output_type": "display_data"
    }
   ],
   "source": [
    "# A vs B | ASKS\n",
    "plt.figure(figsize=(20,10))\n",
    "plt.plot(timestamps, assetA_asks,':r',\n",
    "         timestamps, assetB_asks, ':g')\n",
    "plt.title('A vs B | ASKS')\n",
    "plt.xlabel('Time')\n",
    "plt.ylabel('Price')"
   ]
  },
  {
   "cell_type": "code",
   "execution_count": 33,
   "metadata": {
    "colab": {
     "base_uri": "https://localhost:8080/",
     "height": 506
    },
    "colab_type": "code",
    "id": "281btLC_hOen",
    "outputId": "4ac20d66-622c-48db-8fc5-533597915088"
   },
   "outputs": [
    {
     "data": {
      "text/plain": [
       "Text(0, 0.5, 'Price')"
      ]
     },
     "execution_count": 33,
     "metadata": {},
     "output_type": "execute_result"
    },
    {
     "data": {
      "image/png": "[encoded data removed]",
      "text/plain": [
       "<Figure size 1440x720 with 1 Axes>"
      ]
     },
     "metadata": {
      "needs_background": "light"
     },
     "output_type": "display_data"
    }
   ],
   "source": [
    "# A vs B | BIDS\n",
    "plt.figure(figsize=(20,10))\n",
    "plt.plot(timestamps, assetA_bids,'--r',\n",
    "         timestamps, assetB_bids, '--g')\n",
    "plt.title('A vs B | BIDS')\n",
    "plt.xlabel('Time')\n",
    "plt.ylabel('Price')"
   ]
  },
  {
   "cell_type": "code",
   "execution_count": 34,
   "metadata": {
    "colab": {
     "base_uri": "https://localhost:8080/",
     "height": 490
    },
    "colab_type": "code",
    "id": "qJUrV3-Re_Bc",
    "outputId": "7b1d239d-bdf2-418a-aa80-ce5f2bf06a8f"
   },
   "outputs": [
    {
     "data": {
      "image/png": "[encoded data removed]",
      "text/plain": [
       "<Figure size 1440x720 with 1 Axes>"
      ]
     },
     "metadata": {
      "needs_background": "light"
     },
     "output_type": "display_data"
    }
   ],
   "source": [
    "# A | Asks vs Bids\n",
    "plt.figure(figsize=(20,10))\n",
    "plt.plot(timestamps, assetA_asks, ':r',\n",
    "         timestamps, assetA_bids, '--r')\n",
    "plt.title('A | Asks vs Bids')\n",
    "plt.xlabel('Time')\n",
    "plt.ylabel('Price')\n",
    "plt.show()"
   ]
  },
  {
   "cell_type": "code",
   "execution_count": 35,
   "metadata": {
    "colab": {
     "base_uri": "https://localhost:8080/",
     "height": 490
    },
    "colab_type": "code",
    "id": "K2BA-0ClhpWK",
    "outputId": "35b21b01-6ace-4f26-9ccf-4946c001b83a"
   },
   "outputs": [
    {
     "data": {
      "image/png": "[encoded data removed]",
      "text/plain": [
       "<Figure size 1440x720 with 1 Axes>"
      ]
     },
     "metadata": {
      "needs_background": "light"
     },
     "output_type": "display_data"
    }
   ],
   "source": [
    "# B | Asks vs Bids\n",
    "plt.figure(figsize=(20,10))\n",
    "plt.plot(timestamps, assetB_asks, ':g',\n",
    "         timestamps, assetB_bids, '--g')\n",
    "plt.title('B | Asks vs Bids')\n",
    "plt.xlabel('Time')\n",
    "plt.ylabel('Price')\n",
    "plt.show()"
   ]
  },
  {
   "cell_type": "code",
   "execution_count": 40,
   "metadata": {
    "pycharm": {
     "name": "#%%\n"
    }
   },
   "outputs": [
    {
     "data": {
      "text/html": [
       "<div>\n",
       "<style scoped>\n",
       "    .dataframe tbody tr th:only-of-type {\n",
       "        vertical-align: middle;\n",
       "    }\n",
       "\n",
       "    .dataframe tbody tr th {\n",
       "        vertical-align: top;\n",
       "    }\n",
       "\n",
       "    .dataframe thead th {\n",
       "        text-align: right;\n",
       "    }\n",
       "</style>\n",
       "<table border=\"1\" class=\"dataframe\">\n",
       "  <thead>\n",
       "    <tr style=\"text-align: right;\">\n",
       "      <th></th>\n",
       "      <th>assetA</th>\n",
       "      <th>assetB</th>\n",
       "    </tr>\n",
       "  </thead>\n",
       "  <tbody>\n",
       "    <tr>\n",
       "      <th>1577836803078</th>\n",
       "      <td>{'ask': 7189, 'bid': 7188.89}</td>\n",
       "      <td>{'ask': 7170.25, 'bid': 7169.5}</td>\n",
       "    </tr>\n",
       "    <tr>\n",
       "      <th>1577836806371</th>\n",
       "      <td>{'ask': 7190.09, 'bid': 7190.05}</td>\n",
       "      <td>{'ask': 7170.25, 'bid': 7169.5}</td>\n",
       "    </tr>\n",
       "    <tr>\n",
       "      <th>1577836806459</th>\n",
       "      <td>{'ask': 7190.09, 'bid': 7190.05}</td>\n",
       "      <td>{'ask': 7170.5, 'bid': 7169.5}</td>\n",
       "    </tr>\n",
       "    <tr>\n",
       "      <th>1577836806474</th>\n",
       "      <td>{'ask': 7190.43, 'bid': 7190.05}</td>\n",
       "      <td>{'ask': 7170.5, 'bid': 7169.5}</td>\n",
       "    </tr>\n",
       "    <tr>\n",
       "      <th>1577836806575</th>\n",
       "      <td>{'ask': 7190.39, 'bid': 7190.05}</td>\n",
       "      <td>{'ask': 7170.5, 'bid': 7169.5}</td>\n",
       "    </tr>\n",
       "    <tr>\n",
       "      <th>...</th>\n",
       "      <td>...</td>\n",
       "      <td>...</td>\n",
       "    </tr>\n",
       "    <tr>\n",
       "      <th>1577836827732</th>\n",
       "      <td>{'ask': 7186.72, 'bid': 7186.31}</td>\n",
       "      <td>{'ask': 7169.75, 'bid': 7169.5}</td>\n",
       "    </tr>\n",
       "    <tr>\n",
       "      <th>1577836827941</th>\n",
       "      <td>{'ask': 7186.7, 'bid': 7186.31}</td>\n",
       "      <td>{'ask': 7169.75, 'bid': 7169.5}</td>\n",
       "    </tr>\n",
       "    <tr>\n",
       "      <th>1577836828147</th>\n",
       "      <td>{'ask': 7186.69, 'bid': 7186.31}</td>\n",
       "      <td>{'ask': 7169.75, 'bid': 7169.5}</td>\n",
       "    </tr>\n",
       "    <tr>\n",
       "      <th>1577836828247</th>\n",
       "      <td>{'ask': 7186.68, 'bid': 7186.31}</td>\n",
       "      <td>{'ask': 7169.75, 'bid': 7169.5}</td>\n",
       "    </tr>\n",
       "    <tr>\n",
       "      <th>1577836828479</th>\n",
       "      <td>{'ask': 7186.66, 'bid': 7186.31}</td>\n",
       "      <td>{'ask': 7169.75, 'bid': 7169.5}</td>\n",
       "    </tr>\n",
       "  </tbody>\n",
       "</table>\n",
       "<p>100 rows × 2 columns</p>\n",
       "</div>"
      ],
      "text/plain": [
       "                                         assetA  \\\n",
       "1577836803078     {'ask': 7189, 'bid': 7188.89}   \n",
       "1577836806371  {'ask': 7190.09, 'bid': 7190.05}   \n",
       "1577836806459  {'ask': 7190.09, 'bid': 7190.05}   \n",
       "1577836806474  {'ask': 7190.43, 'bid': 7190.05}   \n",
       "1577836806575  {'ask': 7190.39, 'bid': 7190.05}   \n",
       "...                                         ...   \n",
       "1577836827732  {'ask': 7186.72, 'bid': 7186.31}   \n",
       "1577836827941   {'ask': 7186.7, 'bid': 7186.31}   \n",
       "1577836828147  {'ask': 7186.69, 'bid': 7186.31}   \n",
       "1577836828247  {'ask': 7186.68, 'bid': 7186.31}   \n",
       "1577836828479  {'ask': 7186.66, 'bid': 7186.31}   \n",
       "\n",
       "                                        assetB  \n",
       "1577836803078  {'ask': 7170.25, 'bid': 7169.5}  \n",
       "1577836806371  {'ask': 7170.25, 'bid': 7169.5}  \n",
       "1577836806459   {'ask': 7170.5, 'bid': 7169.5}  \n",
       "1577836806474   {'ask': 7170.5, 'bid': 7169.5}  \n",
       "1577836806575   {'ask': 7170.5, 'bid': 7169.5}  \n",
       "...                                        ...  \n",
       "1577836827732  {'ask': 7169.75, 'bid': 7169.5}  \n",
       "1577836827941  {'ask': 7169.75, 'bid': 7169.5}  \n",
       "1577836828147  {'ask': 7169.75, 'bid': 7169.5}  \n",
       "1577836828247  {'ask': 7169.75, 'bid': 7169.5}  \n",
       "1577836828479  {'ask': 7169.75, 'bid': 7169.5}  \n",
       "\n",
       "[100 rows x 2 columns]"
      ]
     },
     "execution_count": 40,
     "metadata": {},
     "output_type": "execute_result"
    }
   ],
   "source": [
    "df1 = pd.DataFrame.from_dict(chunk,orient='index')\n",
    "df1"
   ]
  },
  {
   "cell_type": "code",
   "execution_count": 92,
   "metadata": {
    "pycharm": {
     "name": "#%%\n"
    }
   },
   "outputs": [
    {
     "data": {
      "text/html": [
       "<div>\n",
       "<style scoped>\n",
       "    .dataframe tbody tr th:only-of-type {\n",
       "        vertical-align: middle;\n",
       "    }\n",
       "\n",
       "    .dataframe tbody tr th {\n",
       "        vertical-align: top;\n",
       "    }\n",
       "\n",
       "    .dataframe thead th {\n",
       "        text-align: right;\n",
       "    }\n",
       "</style>\n",
       "<table border=\"1\" class=\"dataframe\">\n",
       "  <thead>\n",
       "    <tr style=\"text-align: right;\">\n",
       "      <th></th>\n",
       "      <th>assetA</th>\n",
       "      <th>assetB</th>\n",
       "    </tr>\n",
       "  </thead>\n",
       "  <tbody>\n",
       "    <tr>\n",
       "      <th>2020-01-01 00:00:03.078</th>\n",
       "      <td>{'ask': 7189, 'bid': 7188.89}</td>\n",
       "      <td>{'ask': 7170.25, 'bid': 7169.5}</td>\n",
       "    </tr>\n",
       "    <tr>\n",
       "      <th>2020-01-01 00:00:06.371</th>\n",
       "      <td>{'ask': 7190.09, 'bid': 7190.05}</td>\n",
       "      <td>{'ask': 7170.25, 'bid': 7169.5}</td>\n",
       "    </tr>\n",
       "    <tr>\n",
       "      <th>2020-01-01 00:00:06.459</th>\n",
       "      <td>{'ask': 7190.09, 'bid': 7190.05}</td>\n",
       "      <td>{'ask': 7170.5, 'bid': 7169.5}</td>\n",
       "    </tr>\n",
       "    <tr>\n",
       "      <th>2020-01-01 00:00:06.474</th>\n",
       "      <td>{'ask': 7190.43, 'bid': 7190.05}</td>\n",
       "      <td>{'ask': 7170.5, 'bid': 7169.5}</td>\n",
       "    </tr>\n",
       "    <tr>\n",
       "      <th>2020-01-01 00:00:06.575</th>\n",
       "      <td>{'ask': 7190.39, 'bid': 7190.05}</td>\n",
       "      <td>{'ask': 7170.5, 'bid': 7169.5}</td>\n",
       "    </tr>\n",
       "    <tr>\n",
       "      <th>...</th>\n",
       "      <td>...</td>\n",
       "      <td>...</td>\n",
       "    </tr>\n",
       "    <tr>\n",
       "      <th>2020-01-01 00:05:37.281</th>\n",
       "      <td>{'ask': 7175.73, 'bid': 7175.43}</td>\n",
       "      <td>{'ask': 7156.75, 'bid': 7155.25}</td>\n",
       "    </tr>\n",
       "    <tr>\n",
       "      <th>2020-01-01 00:05:37.455</th>\n",
       "      <td>{'ask': 7175.73, 'bid': 7175.43}</td>\n",
       "      <td>{'ask': 7156.75, 'bid': 7155}</td>\n",
       "    </tr>\n",
       "    <tr>\n",
       "      <th>2020-01-01 00:05:37.556</th>\n",
       "      <td>{'ask': 7175.68, 'bid': 7175.43}</td>\n",
       "      <td>{'ask': 7156.75, 'bid': 7155}</td>\n",
       "    </tr>\n",
       "    <tr>\n",
       "      <th>2020-01-01 00:05:37.601</th>\n",
       "      <td>{'ask': 7175.68, 'bid': 7175.43}</td>\n",
       "      <td>{'ask': 7156.25, 'bid': 7155}</td>\n",
       "    </tr>\n",
       "    <tr>\n",
       "      <th>2020-01-01 00:05:37.660</th>\n",
       "      <td>{'ask': 7175.56, 'bid': 7175.43}</td>\n",
       "      <td>{'ask': 7156.25, 'bid': 7155}</td>\n",
       "    </tr>\n",
       "  </tbody>\n",
       "</table>\n",
       "<p>1942 rows × 2 columns</p>\n",
       "</div>"
      ],
      "text/plain": [
       "                                                   assetA  \\\n",
       "2020-01-01 00:00:03.078     {'ask': 7189, 'bid': 7188.89}   \n",
       "2020-01-01 00:00:06.371  {'ask': 7190.09, 'bid': 7190.05}   \n",
       "2020-01-01 00:00:06.459  {'ask': 7190.09, 'bid': 7190.05}   \n",
       "2020-01-01 00:00:06.474  {'ask': 7190.43, 'bid': 7190.05}   \n",
       "2020-01-01 00:00:06.575  {'ask': 7190.39, 'bid': 7190.05}   \n",
       "...                                                   ...   \n",
       "2020-01-01 00:05:37.281  {'ask': 7175.73, 'bid': 7175.43}   \n",
       "2020-01-01 00:05:37.455  {'ask': 7175.73, 'bid': 7175.43}   \n",
       "2020-01-01 00:05:37.556  {'ask': 7175.68, 'bid': 7175.43}   \n",
       "2020-01-01 00:05:37.601  {'ask': 7175.68, 'bid': 7175.43}   \n",
       "2020-01-01 00:05:37.660  {'ask': 7175.56, 'bid': 7175.43}   \n",
       "\n",
       "                                                   assetB  \n",
       "2020-01-01 00:00:03.078   {'ask': 7170.25, 'bid': 7169.5}  \n",
       "2020-01-01 00:00:06.371   {'ask': 7170.25, 'bid': 7169.5}  \n",
       "2020-01-01 00:00:06.459    {'ask': 7170.5, 'bid': 7169.5}  \n",
       "2020-01-01 00:00:06.474    {'ask': 7170.5, 'bid': 7169.5}  \n",
       "2020-01-01 00:00:06.575    {'ask': 7170.5, 'bid': 7169.5}  \n",
       "...                                                   ...  \n",
       "2020-01-01 00:05:37.281  {'ask': 7156.75, 'bid': 7155.25}  \n",
       "2020-01-01 00:05:37.455     {'ask': 7156.75, 'bid': 7155}  \n",
       "2020-01-01 00:05:37.556     {'ask': 7156.75, 'bid': 7155}  \n",
       "2020-01-01 00:05:37.601     {'ask': 7156.25, 'bid': 7155}  \n",
       "2020-01-01 00:05:37.660     {'ask': 7156.25, 'bid': 7155}  \n",
       "\n",
       "[1942 rows x 2 columns]"
      ]
     },
     "execution_count": 92,
     "metadata": {},
     "output_type": "execute_result"
    }
   ],
   "source": [
    "df2 = pd.read_json('./data-trunc.json', orient='index')\n",
    "\n",
    "df2"
   ]
  },
  {
   "cell_type": "code",
   "execution_count": null,
   "metadata": {
    "pycharm": {
     "name": "#%%\n"
    }
   },
   "outputs": [],
   "source": [
    "def asks(state):\n",
    "    ask_ = state['ask']\n",
    "    return ask_\n",
    "def bids(state):\n",
    "    bid_ = state['bid']\n",
    "    return bid_"
   ]
  },
  {
   "cell_type": "code",
   "execution_count": 93,
   "metadata": {
    "pycharm": {
     "name": "#%%\n"
    }
   },
   "outputs": [
    {
     "data": {
      "text/html": [
       "<div>\n",
       "<style scoped>\n",
       "    .dataframe tbody tr th:only-of-type {\n",
       "        vertical-align: middle;\n",
       "    }\n",
       "\n",
       "    .dataframe tbody tr th {\n",
       "        vertical-align: top;\n",
       "    }\n",
       "\n",
       "    .dataframe thead th {\n",
       "        text-align: right;\n",
       "    }\n",
       "</style>\n",
       "<table border=\"1\" class=\"dataframe\">\n",
       "  <thead>\n",
       "    <tr style=\"text-align: right;\">\n",
       "      <th></th>\n",
       "      <th>asks</th>\n",
       "      <th>bids</th>\n",
       "    </tr>\n",
       "  </thead>\n",
       "  <tbody>\n",
       "    <tr>\n",
       "      <th>2020-01-01 00:00:03.078</th>\n",
       "      <td>7189.00</td>\n",
       "      <td>7188.89</td>\n",
       "    </tr>\n",
       "    <tr>\n",
       "      <th>2020-01-01 00:00:06.371</th>\n",
       "      <td>7190.09</td>\n",
       "      <td>7190.05</td>\n",
       "    </tr>\n",
       "    <tr>\n",
       "      <th>2020-01-01 00:00:06.459</th>\n",
       "      <td>7190.09</td>\n",
       "      <td>7190.05</td>\n",
       "    </tr>\n",
       "    <tr>\n",
       "      <th>2020-01-01 00:00:06.474</th>\n",
       "      <td>7190.43</td>\n",
       "      <td>7190.05</td>\n",
       "    </tr>\n",
       "    <tr>\n",
       "      <th>2020-01-01 00:00:06.575</th>\n",
       "      <td>7190.39</td>\n",
       "      <td>7190.05</td>\n",
       "    </tr>\n",
       "    <tr>\n",
       "      <th>...</th>\n",
       "      <td>...</td>\n",
       "      <td>...</td>\n",
       "    </tr>\n",
       "    <tr>\n",
       "      <th>2020-01-01 00:05:37.281</th>\n",
       "      <td>7175.73</td>\n",
       "      <td>7175.43</td>\n",
       "    </tr>\n",
       "    <tr>\n",
       "      <th>2020-01-01 00:05:37.455</th>\n",
       "      <td>7175.73</td>\n",
       "      <td>7175.43</td>\n",
       "    </tr>\n",
       "    <tr>\n",
       "      <th>2020-01-01 00:05:37.556</th>\n",
       "      <td>7175.68</td>\n",
       "      <td>7175.43</td>\n",
       "    </tr>\n",
       "    <tr>\n",
       "      <th>2020-01-01 00:05:37.601</th>\n",
       "      <td>7175.68</td>\n",
       "      <td>7175.43</td>\n",
       "    </tr>\n",
       "    <tr>\n",
       "      <th>2020-01-01 00:05:37.660</th>\n",
       "      <td>7175.56</td>\n",
       "      <td>7175.43</td>\n",
       "    </tr>\n",
       "  </tbody>\n",
       "</table>\n",
       "<p>1942 rows × 2 columns</p>\n",
       "</div>"
      ],
      "text/plain": [
       "                            asks     bids\n",
       "2020-01-01 00:00:03.078  7189.00  7188.89\n",
       "2020-01-01 00:00:06.371  7190.09  7190.05\n",
       "2020-01-01 00:00:06.459  7190.09  7190.05\n",
       "2020-01-01 00:00:06.474  7190.43  7190.05\n",
       "2020-01-01 00:00:06.575  7190.39  7190.05\n",
       "...                          ...      ...\n",
       "2020-01-01 00:05:37.281  7175.73  7175.43\n",
       "2020-01-01 00:05:37.455  7175.73  7175.43\n",
       "2020-01-01 00:05:37.556  7175.68  7175.43\n",
       "2020-01-01 00:05:37.601  7175.68  7175.43\n",
       "2020-01-01 00:05:37.660  7175.56  7175.43\n",
       "\n",
       "[1942 rows x 2 columns]"
      ]
     },
     "execution_count": 93,
     "metadata": {},
     "output_type": "execute_result"
    }
   ],
   "source": [
    "assetA = df2.assetA.apply([asks, bids])"
   ]
  },
  {
   "cell_type": "code",
   "execution_count": 94,
   "metadata": {
    "pycharm": {
     "name": "#%%\n"
    }
   },
   "outputs": [
    {
     "data": {
      "text/html": [
       "<div>\n",
       "<style scoped>\n",
       "    .dataframe tbody tr th:only-of-type {\n",
       "        vertical-align: middle;\n",
       "    }\n",
       "\n",
       "    .dataframe tbody tr th {\n",
       "        vertical-align: top;\n",
       "    }\n",
       "\n",
       "    .dataframe thead th {\n",
       "        text-align: right;\n",
       "    }\n",
       "</style>\n",
       "<table border=\"1\" class=\"dataframe\">\n",
       "  <thead>\n",
       "    <tr style=\"text-align: right;\">\n",
       "      <th></th>\n",
       "      <th>asks</th>\n",
       "      <th>bids</th>\n",
       "    </tr>\n",
       "  </thead>\n",
       "  <tbody>\n",
       "    <tr>\n",
       "      <th>2020-01-01 00:00:03.078</th>\n",
       "      <td>7170.25</td>\n",
       "      <td>7169.50</td>\n",
       "    </tr>\n",
       "    <tr>\n",
       "      <th>2020-01-01 00:00:06.371</th>\n",
       "      <td>7170.25</td>\n",
       "      <td>7169.50</td>\n",
       "    </tr>\n",
       "    <tr>\n",
       "      <th>2020-01-01 00:00:06.459</th>\n",
       "      <td>7170.50</td>\n",
       "      <td>7169.50</td>\n",
       "    </tr>\n",
       "    <tr>\n",
       "      <th>2020-01-01 00:00:06.474</th>\n",
       "      <td>7170.50</td>\n",
       "      <td>7169.50</td>\n",
       "    </tr>\n",
       "    <tr>\n",
       "      <th>2020-01-01 00:00:06.575</th>\n",
       "      <td>7170.50</td>\n",
       "      <td>7169.50</td>\n",
       "    </tr>\n",
       "    <tr>\n",
       "      <th>...</th>\n",
       "      <td>...</td>\n",
       "      <td>...</td>\n",
       "    </tr>\n",
       "    <tr>\n",
       "      <th>2020-01-01 00:05:37.281</th>\n",
       "      <td>7156.75</td>\n",
       "      <td>7155.25</td>\n",
       "    </tr>\n",
       "    <tr>\n",
       "      <th>2020-01-01 00:05:37.455</th>\n",
       "      <td>7156.75</td>\n",
       "      <td>7155.00</td>\n",
       "    </tr>\n",
       "    <tr>\n",
       "      <th>2020-01-01 00:05:37.556</th>\n",
       "      <td>7156.75</td>\n",
       "      <td>7155.00</td>\n",
       "    </tr>\n",
       "    <tr>\n",
       "      <th>2020-01-01 00:05:37.601</th>\n",
       "      <td>7156.25</td>\n",
       "      <td>7155.00</td>\n",
       "    </tr>\n",
       "    <tr>\n",
       "      <th>2020-01-01 00:05:37.660</th>\n",
       "      <td>7156.25</td>\n",
       "      <td>7155.00</td>\n",
       "    </tr>\n",
       "  </tbody>\n",
       "</table>\n",
       "<p>1942 rows × 2 columns</p>\n",
       "</div>"
      ],
      "text/plain": [
       "                            asks     bids\n",
       "2020-01-01 00:00:03.078  7170.25  7169.50\n",
       "2020-01-01 00:00:06.371  7170.25  7169.50\n",
       "2020-01-01 00:00:06.459  7170.50  7169.50\n",
       "2020-01-01 00:00:06.474  7170.50  7169.50\n",
       "2020-01-01 00:00:06.575  7170.50  7169.50\n",
       "...                          ...      ...\n",
       "2020-01-01 00:05:37.281  7156.75  7155.25\n",
       "2020-01-01 00:05:37.455  7156.75  7155.00\n",
       "2020-01-01 00:05:37.556  7156.75  7155.00\n",
       "2020-01-01 00:05:37.601  7156.25  7155.00\n",
       "2020-01-01 00:05:37.660  7156.25  7155.00\n",
       "\n",
       "[1942 rows x 2 columns]"
      ]
     },
     "execution_count": 94,
     "metadata": {},
     "output_type": "execute_result"
    }
   ],
   "source": [
    "assetB = df2.assetB.apply([asks, bids])"
   ]
  },
  {
   "cell_type": "code",
   "execution_count": 95,
   "metadata": {
    "pycharm": {
     "name": "#%%\n"
    }
   },
   "outputs": [
    {
     "data": {
      "text/plain": [
       "[<matplotlib.lines.Line2D at 0x7fdb358f7970>,\n",
       " <matplotlib.lines.Line2D at 0x7fdb36713fa0>]"
      ]
     },
     "execution_count": 95,
     "metadata": {},
     "output_type": "execute_result"
    },
    {
     "data": {
      "image/png": "[encoded data removed]",
      "text/plain": [
       "<Figure size 432x288 with 1 Axes>"
      ]
     },
     "metadata": {
      "needs_background": "light"
     },
     "output_type": "display_data"
    }
   ],
   "source": [
    "plt.plot(assetA, assetB)\n"
   ]
  }
 ],
 "metadata": {
  "colab": {
   "authorship_tag": "ABX9TyNo7hWy1tHHKdG3kS/2AAX8",
   "collapsed_sections": [],
   "include_colab_link": true,
   "name": "efficient-frontier-scratch.ipynb",
   "provenance": []
  },
  "kernelspec": {
   "display_name": "PyCharm (home-task)",
   "language": "python",
   "name": "pycharm-231a11d7"
  },
  "language_info": {
   "codemirror_mode": {
    "name": "ipython",
    "version": 3
   },
   "file_extension": ".py",
   "mimetype": "text/x-python",
   "name": "python",
   "nbconvert_exporter": "python",
   "pygments_lexer": "ipython3",
   "version": "3.8.2"
  }
 },
 "nbformat": 4,
 "nbformat_minor": 1
}